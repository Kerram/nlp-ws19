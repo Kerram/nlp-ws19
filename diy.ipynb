{
 "cells": [
  {
   "cell_type": "code",
   "execution_count": 1,
   "metadata": {},
   "outputs": [
    {
     "name": "stderr",
     "output_type": "stream",
     "text": [
      "fatal: destination path 'nlp-ws19' already exists and is not an empty directory.\n"
     ]
    },
    {
     "name": "stdout",
     "output_type": "stream",
     "text": [
      "Requirement already satisfied: pyLDAvis in c:\\users\\ystrehlow\\appdata\\local\\continuum\\anaconda3\\envs\\n3\\lib\\site-packages (2.1.2)\n",
      "Requirement already satisfied: pytest in c:\\users\\ystrehlow\\appdata\\local\\continuum\\anaconda3\\envs\\n3\\lib\\site-packages (from pyLDAvis) (4.5.0)\n",
      "Requirement already satisfied: future in c:\\users\\ystrehlow\\appdata\\local\\continuum\\anaconda3\\envs\\n3\\lib\\site-packages (from pyLDAvis) (0.17.1)\n",
      "Requirement already satisfied: funcy in c:\\users\\ystrehlow\\appdata\\local\\continuum\\anaconda3\\envs\\n3\\lib\\site-packages (from pyLDAvis) (1.12)\n",
      "Requirement already satisfied: numexpr in c:\\users\\ystrehlow\\appdata\\local\\continuum\\anaconda3\\envs\\n3\\lib\\site-packages (from pyLDAvis) (2.6.9)\n",
      "Requirement already satisfied: wheel>=0.23.0 in c:\\users\\ystrehlow\\appdata\\local\\continuum\\anaconda3\\envs\\n3\\lib\\site-packages (from pyLDAvis) (0.33.4)\n",
      "Requirement already satisfied: joblib>=0.8.4 in c:\\users\\ystrehlow\\appdata\\local\\continuum\\anaconda3\\envs\\n3\\lib\\site-packages (from pyLDAvis) (0.13.2)\n",
      "Requirement already satisfied: pandas>=0.17.0 in c:\\users\\ystrehlow\\appdata\\local\\continuum\\anaconda3\\envs\\n3\\lib\\site-packages (from pyLDAvis) (0.24.2)\n",
      "Requirement already satisfied: numpy>=1.9.2 in c:\\users\\ystrehlow\\appdata\\local\\continuum\\anaconda3\\envs\\n3\\lib\\site-packages (from pyLDAvis) (1.16.3)\n",
      "Requirement already satisfied: jinja2>=2.7.2 in c:\\users\\ystrehlow\\appdata\\local\\continuum\\anaconda3\\envs\\n3\\lib\\site-packages (from pyLDAvis) (2.10.1)\n",
      "Requirement already satisfied: scipy>=0.18.0 in c:\\users\\ystrehlow\\appdata\\local\\continuum\\anaconda3\\envs\\n3\\lib\\site-packages (from pyLDAvis) (1.2.1)\n",
      "Requirement already satisfied: py>=1.5.0 in c:\\users\\ystrehlow\\appdata\\local\\continuum\\anaconda3\\envs\\n3\\lib\\site-packages (from pytest->pyLDAvis) (1.8.0)\n",
      "Requirement already satisfied: six>=1.10.0 in c:\\users\\ystrehlow\\appdata\\local\\continuum\\anaconda3\\envs\\n3\\lib\\site-packages (from pytest->pyLDAvis) (1.12.0)\n",
      "Requirement already satisfied: setuptools in c:\\users\\ystrehlow\\appdata\\local\\continuum\\anaconda3\\envs\\n3\\lib\\site-packages (from pytest->pyLDAvis) (41.0.1)\n",
      "Requirement already satisfied: attrs>=17.4.0 in c:\\users\\ystrehlow\\appdata\\local\\continuum\\anaconda3\\envs\\n3\\lib\\site-packages (from pytest->pyLDAvis) (19.1.0)\n",
      "Requirement already satisfied: atomicwrites>=1.0 in c:\\users\\ystrehlow\\appdata\\local\\continuum\\anaconda3\\envs\\n3\\lib\\site-packages (from pytest->pyLDAvis) (1.3.0)\n",
      "Requirement already satisfied: pluggy!=0.10,<1.0,>=0.9 in c:\\users\\ystrehlow\\appdata\\local\\continuum\\anaconda3\\envs\\n3\\lib\\site-packages (from pytest->pyLDAvis) (0.11.0)\n",
      "Requirement already satisfied: wcwidth in c:\\users\\ystrehlow\\appdata\\local\\continuum\\anaconda3\\envs\\n3\\lib\\site-packages (from pytest->pyLDAvis) (0.1.7)\n",
      "Requirement already satisfied: more-itertools>=4.0.0 in c:\\users\\ystrehlow\\appdata\\local\\continuum\\anaconda3\\envs\\n3\\lib\\site-packages (from pytest->pyLDAvis) (7.0.0)\n",
      "Requirement already satisfied: colorama in c:\\users\\ystrehlow\\appdata\\local\\continuum\\anaconda3\\envs\\n3\\lib\\site-packages (from pytest->pyLDAvis) (0.4.1)\n",
      "Requirement already satisfied: python-dateutil>=2.5.0 in c:\\users\\ystrehlow\\appdata\\local\\continuum\\anaconda3\\envs\\n3\\lib\\site-packages (from pandas>=0.17.0->pyLDAvis) (2.8.0)\n",
      "Requirement already satisfied: pytz>=2011k in c:\\users\\ystrehlow\\appdata\\local\\continuum\\anaconda3\\envs\\n3\\lib\\site-packages (from pandas>=0.17.0->pyLDAvis) (2019.1)\n",
      "Requirement already satisfied: MarkupSafe>=0.23 in c:\\users\\ystrehlow\\appdata\\local\\continuum\\anaconda3\\envs\\n3\\lib\\site-packages (from jinja2>=2.7.2->pyLDAvis) (1.1.1)\n"
     ]
    }
   ],
   "source": [
    "!pip install pyLDAvis\n",
    "!python -m spacy download de_core_news_sm\n",
    "import os\n",
    "\n",
    "!git clone https://github.com/YStrehlow/nlp-ws19.git\n",
    "\n",
    "os.chdir('nlp-ws19')"
   ]
  },
  {
   "cell_type": "code",
   "execution_count": 7,
   "metadata": {},
   "outputs": [],
   "source": [
    "%matplotlib inline\n",
    "import itertools\n",
    "\n",
    "import pandas as pd\n",
    "import numpy as np\n",
    "\n",
    "import spacy\n",
    "from spacy import displacy\n",
    "\n",
    "import matplotlib.pyplot as plt\n",
    "\n",
    "from sklearn.feature_extraction.text import TfidfVectorizer, CountVectorizer\n",
    "from sklearn.preprocessing import LabelEncoder\n",
    "\n",
    "from sklearn.naive_bayes import GaussianNB\n",
    "from sklearn.ensemble import RandomForestClassifier\n",
    "from sklearn.linear_model import SGDClassifier\n",
    "\n",
    "from sklearn.metrics import confusion_matrix, accuracy_score\n",
    "\n",
    "from plot_cm import plot_confusion_matrix\n",
    "\n",
    "from gensim.corpora.dictionary import Dictionary\n",
    "from gensim.models.ldamodel import LdaModel\n",
    "\n",
    "import pyLDAvis.gensim\n",
    "pyLDAvis.enable_notebook()\n",
    "\n",
    "nlp = spacy.load('de_core_news_sm')"
   ]
  },
  {
   "cell_type": "code",
   "execution_count": null,
   "metadata": {},
   "outputs": [],
   "source": []
  }
 ],
 "metadata": {
  "kernelspec": {
   "display_name": "Python 3",
   "language": "python",
   "name": "python3"
  },
  "language_info": {
   "codemirror_mode": {
    "name": "ipython",
    "version": 3
   },
   "file_extension": ".py",
   "mimetype": "text/x-python",
   "name": "python",
   "nbconvert_exporter": "python",
   "pygments_lexer": "ipython3",
   "version": "3.6.8"
  }
 },
 "nbformat": 4,
 "nbformat_minor": 2
}
